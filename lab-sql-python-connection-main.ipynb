{
 "cells": [
  {
   "cell_type": "code",
   "execution_count": 1,
   "id": "c790456d-9277-4c9f-a56b-0752cc41cbfa",
   "metadata": {},
   "outputs": [
    {
     "name": "stdout",
     "output_type": "stream",
     "text": [
      "Requirement already satisfied: cryptography in c:\\users\\teresa alexandra\\appdata\\local\\programs\\python\\python313\\lib\\site-packages (45.0.6)\n",
      "Requirement already satisfied: cffi>=1.14 in c:\\users\\teresa alexandra\\appdata\\local\\programs\\python\\python313\\lib\\site-packages (from cryptography) (1.17.1)\n",
      "Requirement already satisfied: pycparser in c:\\users\\teresa alexandra\\appdata\\local\\programs\\python\\python313\\lib\\site-packages (from cffi>=1.14->cryptography) (2.22)\n",
      "Note: you may need to restart the kernel to use updated packages.\n"
     ]
    }
   ],
   "source": [
    "pip install cryptography"
   ]
  },
  {
   "cell_type": "code",
   "execution_count": 2,
   "id": "9b5d7c03-c5de-4fa7-8de2-e085a1d552ac",
   "metadata": {},
   "outputs": [],
   "source": [
    "import pandas as pd\n",
    "import pymysql\n",
    "from sqlalchemy import create_engine, text\n",
    "\n",
    "from getpass import getpass\n",
    "\n",
    "import matplotlib.pyplot as plt"
   ]
  },
  {
   "cell_type": "code",
   "execution_count": 3,
   "id": "e9a1b257-ed69-4bad-9e57-70a64206b7fe",
   "metadata": {},
   "outputs": [
    {
     "name": "stdin",
     "output_type": "stream",
     "text": [
      " ········\n"
     ]
    }
   ],
   "source": [
    "pwd = getpass()\n",
    "USER = \"root\"\n",
    "HOST = \"localhost\"  \n",
    "BD = \"sakila\""
   ]
  },
  {
   "cell_type": "code",
   "execution_count": 4,
   "id": "06042d2a-249b-41b9-b7e2-70a80c15965d",
   "metadata": {},
   "outputs": [],
   "source": [
    "con_url = f\"mysql+pymysql://{USER}:{pwd}@{HOST}/{BD}\"\n",
    "\n",
    "engine = create_engine(con_url)"
   ]
  },
  {
   "cell_type": "code",
   "execution_count": 5,
   "id": "36fbf2b2-77a4-4efb-9da7-c9fbdef604c9",
   "metadata": {},
   "outputs": [],
   "source": [
    "def rentals_month(engine, month, year):\n",
    "    query = f\"\"\"\n",
    "    SELECT rental_id, rental_date, customer_id\n",
    "    FROM rental\n",
    "    WHERE MONTH(rental_date) = {month} AND YEAR(rental_date) = {year}\n",
    "    \"\"\"\n",
    "    df = pd.read_sql(query, engine)\n",
    "    return df"
   ]
  },
  {
   "cell_type": "code",
   "execution_count": 6,
   "id": "01063b88-e2d9-45d6-a0c9-75fde0445219",
   "metadata": {},
   "outputs": [],
   "source": [
    "def rental_count_month(df, month, year):\n",
    "    rental_counts = df.groupby('customer_id').size().reset_index(name=f\"rentals_{month:02d}_{year}\")\n",
    "    return rental_counts"
   ]
  },
  {
   "cell_type": "code",
   "execution_count": 7,
   "id": "71c6a0b9-fa80-401d-9f2d-fd992f1b048c",
   "metadata": {},
   "outputs": [],
   "source": [
    "def compare_rentals(df1, df2):\n",
    "    merged_df = pd.merge(df1, df2, on='customer_id', how='inner')  # Only common customers\n",
    "    rental_columns = [col for col in merged_df.columns if col.startswith('rentals_')]\n",
    "    merged_df['difference'] = merged_df[rental_columns[1]] - merged_df[rental_columns[0]]\n",
    "    return merged_df"
   ]
  },
  {
   "cell_type": "code",
   "execution_count": 8,
   "id": "dedfb246-2a8a-48c8-929c-324b149dfb2e",
   "metadata": {},
   "outputs": [
    {
     "name": "stdout",
     "output_type": "stream",
     "text": [
      "   customer_id  rentals_05_2005  rentals_06_2005  difference\n",
      "0            1                2                7           5\n",
      "1            2                1                1           0\n",
      "2            3                2                4           2\n",
      "3            5                3                5           2\n",
      "4            6                3                4           1\n"
     ]
    }
   ],
   "source": [
    "may_df = rentals_month(engine, 5, 2005)\n",
    "june_df = rentals_month(engine, 6, 2005)\n",
    "\n",
    "may_counts = rental_count_month(may_df, 5, 2005)\n",
    "june_counts = rental_count_month(june_df, 6, 2005)\n",
    "\n",
    "comparison = compare_rentals(may_counts, june_counts)\n",
    "\n",
    "print(comparison.head())"
   ]
  }
 ],
 "metadata": {
  "kernelspec": {
   "display_name": "Python 3 (ipykernel)",
   "language": "python",
   "name": "python3"
  },
  "language_info": {
   "codemirror_mode": {
    "name": "ipython",
    "version": 3
   },
   "file_extension": ".py",
   "mimetype": "text/x-python",
   "name": "python",
   "nbconvert_exporter": "python",
   "pygments_lexer": "ipython3",
   "version": "3.13.3"
  }
 },
 "nbformat": 4,
 "nbformat_minor": 5
}
